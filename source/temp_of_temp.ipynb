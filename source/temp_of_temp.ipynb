{
 "cells": [
  {
   "cell_type": "code",
   "execution_count": 1,
   "metadata": {},
   "outputs": [],
   "source": [
    "import numpy as np\n",
    "import matplotlib.pyplot as plt\n",
    "%matplotlib inline\n",
    "#S-BOX table\n",
    "sbox=(\n",
    "0x63,0x7c,0x77,0x7b,0xf2,0x6b,0x6f,0xc5,0x30,0x01,0x67,0x2b,0xfe,0xd7,0xab,0x76,\n",
    "0xca,0x82,0xc9,0x7d,0xfa,0x59,0x47,0xf0,0xad,0xd4,0xa2,0xaf,0x9c,0xa4,0x72,0xc0,\n",
    "0xb7,0xfd,0x93,0x26,0x36,0x3f,0xf7,0xcc,0x34,0xa5,0xe5,0xf1,0x71,0xd8,0x31,0x15,\n",
    "0x04,0xc7,0x23,0xc3,0x18,0x96,0x05,0x9a,0x07,0x12,0x80,0xe2,0xeb,0x27,0xb2,0x75,\n",
    "0x09,0x83,0x2c,0x1a,0x1b,0x6e,0x5a,0xa0,0x52,0x3b,0xd6,0xb3,0x29,0xe3,0x2f,0x84,\n",
    "0x53,0xd1,0x00,0xed,0x20,0xfc,0xb1,0x5b,0x6a,0xcb,0xbe,0x39,0x4a,0x4c,0x58,0xcf,\n",
    "0xd0,0xef,0xaa,0xfb,0x43,0x4d,0x33,0x85,0x45,0xf9,0x02,0x7f,0x50,0x3c,0x9f,0xa8,\n",
    "0x51,0xa3,0x40,0x8f,0x92,0x9d,0x38,0xf5,0xbc,0xb6,0xda,0x21,0x10,0xff,0xf3,0xd2,\n",
    "0xcd,0x0c,0x13,0xec,0x5f,0x97,0x44,0x17,0xc4,0xa7,0x7e,0x3d,0x64,0x5d,0x19,0x73,\n",
    "0x60,0x81,0x4f,0xdc,0x22,0x2a,0x90,0x88,0x46,0xee,0xb8,0x14,0xde,0x5e,0x0b,0xdb,\n",
    "0xe0,0x32,0x3a,0x0a,0x49,0x06,0x24,0x5c,0xc2,0xd3,0xac,0x62,0x91,0x95,0xe4,0x79,\n",
    "0xe7,0xc8,0x37,0x6d,0x8d,0xd5,0x4e,0xa9,0x6c,0x56,0xf4,0xea,0x65,0x7a,0xae,0x08,\n",
    "0xba,0x78,0x25,0x2e,0x1c,0xa6,0xb4,0xc6,0xe8,0xdd,0x74,0x1f,0x4b,0xbd,0x8b,0x8a,\n",
    "0x70,0x3e,0xb5,0x66,0x48,0x03,0xf6,0x0e,0x61,0x35,0x57,0xb9,0x86,0xc1,0x1d,0x9e,\n",
    "0xe1,0xf8,0x98,0x11,0x69,0xd9,0x8e,0x94,0x9b,0x1e,0x87,0xe9,0xce,0x55,0x28,0xdf,\n",
    "0x8c,0xa1,0x89,0x0d,0xbf,0xe6,0x42,0x68,0x41,0x99,0x2d,0x0f,0xb0,0x54,0xbb,0x16)\n"
   ]
  },
  {
   "cell_type": "code",
   "execution_count": 2,
   "metadata": {},
   "outputs": [],
   "source": [
    "#SubBytes\n",
    "def sub_bytes(pt, keyguess):\n",
    "    return sbox[pt ^ keyguess]\n"
   ]
  },
  {
   "cell_type": "code",
   "execution_count": 5,
   "metadata": {},
   "outputs": [],
   "source": [
    "traces = np.load(r'pns.npy').astype(float)\n"
   ]
  },
  {
   "cell_type": "code",
   "execution_count": 10,
   "metadata": {},
   "outputs": [],
   "source": [
    "pt = np.load(r'pts.npy') # load plain text\n"
   ]
  },
  {
   "cell_type": "code",
   "execution_count": 13,
   "metadata": {},
   "outputs": [
    {
     "name": "stdout",
     "output_type": "stream",
     "text": [
      "(250, 16)\n",
      "(250, 10000)\n"
     ]
    }
   ],
   "source": [
    "print(pt.shape) \n",
    "print(traces.shape)\n"
   ]
  },
  {
   "cell_type": "code",
   "execution_count": 16,
   "metadata": {},
   "outputs": [],
   "source": [
    "trace_cnt = np.shape(traces)[0] # 250, number of traces (input samples)\n",
    "points_cnt = np.shape(traces)[1] # 10000, number of points (time)"
   ]
  },
  {
   "cell_type": "code",
   "execution_count": 17,
   "metadata": {},
   "outputs": [],
   "source": [
    "keys = []\n"
   ]
  },
  {
   "cell_type": "code",
   "execution_count": 20,
   "metadata": {},
   "outputs": [],
   "source": [
    "traces=traces.T # transfer 250 * 10000 to 10000 * 250\n"
   ]
  },
  {
   "cell_type": "code",
   "execution_count": 24,
   "metadata": {},
   "outputs": [],
   "source": [
    "# Generate Hamming Weight Array\n",
    "# bin(n) means the binary format of integer n\n",
    "HW =[] \n",
    "for n in range(0,256):\n",
    "  HW.append(bin(n).count(\"1\")) "
   ]
  },
  {
   "cell_type": "code",
   "execution_count": null,
   "metadata": {},
   "outputs": [],
   "source": [
    "# iteratively to find all keys (16 in total)\n",
    "# for each key bit:\n",
    "#    guessing from 0 to 256 (2^8, 8 bits)\n",
    "#       for each guess, get the hypothetic traces of the intermediate values:\n",
    "#          for each trace get the output of \"adding round key\" and sub-bytes\n",
    "#       then compare the hypothetics with all the collected benchmark traces\n",
    "#       the comparation is done by computing the correlation coefficient\n",
    "#             correlation coefficient is given by Pearson product-moment correlation coefficient, \n",
    "#             it measures the correlation/similarity between the guessed-key based hypothetic trace and the benchmark\n",
    "#             then why use it instead of covariant: \n",
    "#             because Pearson product-moment correlation coefficient is invariant to linear transfer\n",
    "#             because it is calculated by using covariants to divide the std, \n",
    "#             when (x or y) x= ax+b, cov is x times larger and std is at the same time larger as well.\n",
    "#             while covariant is only unchange for simple x=x+b, not x=ax+b.  \n",
    "#       I guess in this context, this makes the coefficient more robust to the less aligned traces caused by operation or few data\n",
    "\n",
    "# more data, more accurate deciding the correct keys, I guess, if not sufficient data, there will be multiple candidates.\n",
    "\n",
    "\n",
    "#                 "
   ]
  },
  {
   "cell_type": "code",
   "execution_count": 49,
   "metadata": {},
   "outputs": [
    {
     "data": {
      "text/plain": [
       "(250,)"
      ]
     },
     "execution_count": 49,
     "metadata": {},
     "output_type": "execute_result"
    }
   ],
   "source": [
    "np.corrcoef(hyp,traces[pj])\n",
    "traces[pj].shape"
   ]
  },
  {
   "cell_type": "code",
   "execution_count": 38,
   "metadata": {},
   "outputs": [],
   "source": [
    "for pi in range(0, 16):\n",
    "    cpa_data = []\n",
    "    for kguess in range(0, 256):\n",
    "#         print (\"Key %2d, hyp = %02x: \"%(pi, kguess),)\n",
    "\n",
    "        hyp = np.zeros(trace_cnt)\n",
    "        for pj in range(0, trace_cnt):\n",
    "            hyp[pj] = HW[sub_bytes(pt[pj][pi], kguess)]\n",
    "\n",
    "        tmp=[]     \n",
    "        for pj in range (0,points_cnt):\n",
    "           tmp.append(abs(np.corrcoef(hyp,traces[pj])[0,1]))\n",
    "\n",
    "        cpa_data.append(max(tmp))\n",
    "    break\n"
   ]
  },
  {
   "cell_type": "code",
   "execution_count": null,
   "metadata": {},
   "outputs": [],
   "source": []
  },
  {
   "cell_type": "code",
   "execution_count": 25,
   "metadata": {},
   "outputs": [],
   "source": [
    "for pi in range(0, 16):\n",
    "    cpa_data = []\n",
    "    for kguess in range(0, 256):\n",
    "#         print (\"Key %2d, hyp = %02x: \"%(pi, kguess),)\n",
    "\n",
    "        hyp = np.zeros(trace_cnt)\n",
    "        for pj in range(0, trace_cnt):\n",
    "            hyp[pj] = HW[sub_bytes(pt[pj][pi], kguess)]\n",
    "\n",
    "#         tmp=[]     \n",
    "#         for pj in range (0,points_cnt):\n",
    "#            tmp.append(abs(np.corrcoef(hyp,traces[pj])[0,1]))\n",
    "\n",
    "#         cpa_data.append(max(tmp))\n",
    "\n",
    "\n",
    "\n",
    "#     index = np.argmax(cpa_data)\n",
    "#     keys.append(index);\n",
    "#     print(index)\n",
    "   \n",
    "#     #draw the statitical chart\n",
    "\n",
    "#     plt.plot(cpa_data)\n",
    "#     plt.plot(index,cpa_data[index],'ks')\n",
    "#     show_max='['+str(index)+','+str(cpa_data[index])+']'\n",
    "#     plt.annotate(show_max,xytext=(index,cpa_data[index]),xy=(index,cpa_data[index]))\n",
    "#     plt.show()\n",
    "    \n",
    "\n",
    "\n",
    "\n",
    "# print (\"The Key is: \",)\n",
    "# for b in keys: print (\"%02x \"%b,)\n"
   ]
  },
  {
   "cell_type": "code",
   "execution_count": null,
   "metadata": {},
   "outputs": [],
   "source": []
  }
 ],
 "metadata": {
  "kernelspec": {
   "display_name": "Python 3",
   "language": "python",
   "name": "python3"
  },
  "language_info": {
   "codemirror_mode": {
    "name": "ipython",
    "version": 3
   },
   "file_extension": ".py",
   "mimetype": "text/x-python",
   "name": "python",
   "nbconvert_exporter": "python",
   "pygments_lexer": "ipython3",
   "version": "3.7.4"
  }
 },
 "nbformat": 4,
 "nbformat_minor": 2
}
